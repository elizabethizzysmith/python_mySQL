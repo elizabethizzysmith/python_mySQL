{
 "metadata": {
  "name": "Insight.ipynb"
 },
 "nbformat": 3,
 "nbformat_minor": 0,
 "worksheets": [
  {
   "cells": [
    {
     "cell_type": "heading",
     "level": 1,
     "metadata": {},
     "source": [
      "Quantitative Analysis of SXT Data"
     ]
    },
    {
     "cell_type": "heading",
     "level": 2,
     "metadata": {},
     "source": [
      "Step 1:  Pull data from My SQL database"
     ]
    },
    {
     "cell_type": "markdown",
     "metadata": {},
     "source": [
      "First, please specify a local directory where we can save the data to."
     ]
    },
    {
     "cell_type": "code",
     "collapsed": false,
     "input": [
      "%cd /Users/elizabethasmith/Desktop/sql"
     ],
     "language": "python",
     "metadata": {},
     "outputs": [
      {
       "output_type": "stream",
       "stream": "stdout",
       "text": [
        "/Users/elizabethasmith/Desktop/sql\n"
       ]
      }
     ],
     "prompt_number": 6
    },
    {
     "cell_type": "markdown",
     "metadata": {},
     "source": [
      "The script 'getSQLdata.py' will pull data from the MySQL database using the following syntax:"
     ]
    },
    {
     "cell_type": "raw",
     "metadata": {},
     "source": [
      "%run getSQLdata.py DatabaseName Table_Name"
     ]
    },
    {
     "cell_type": "markdown",
     "metadata": {},
     "source": [
      "If you successfully pull data, you will get a notification summary."
     ]
    },
    {
     "cell_type": "code",
     "collapsed": true,
     "input": [
      "%run getSQLdata.py SXT_datamatrix Mouse_Cells_ALL"
     ],
     "language": "python",
     "metadata": {},
     "outputs": []
    },
    {
     "cell_type": "markdown",
     "metadata": {},
     "source": [
      "Check that this is the data you are intending to pull by displaying the data as a table."
     ]
    },
    {
     "cell_type": "code",
     "collapsed": false,
     "input": [
      "df"
     ],
     "language": "python",
     "metadata": {},
     "outputs": []
    },
    {
     "cell_type": "heading",
     "level": 2,
     "metadata": {},
     "source": [
      "Step 2:  Population Analysis:  Are there any differences in nuclear features between healthy B-cells and cancer B cells?"
     ]
    },
    {
     "cell_type": "markdown",
     "metadata": {},
     "source": [
      "We will assign individual cells to a group according to their cell type.  Let's first look at an overall descriptive difference between these two cell types."
     ]
    },
    {
     "cell_type": "code",
     "collapsed": false,
     "input": [
      "df.groupby('CellType').describe()"
     ],
     "language": "python",
     "metadata": {},
     "outputs": []
    },
    {
     "cell_type": "markdown",
     "metadata": {},
     "source": [
      "Looks like there are big differences here.  Let's first visualize the data to get a better sense of what they look like -- this table is pretty cramped."
     ]
    },
    {
     "cell_type": "heading",
     "level": 2,
     "metadata": {},
     "source": [
      "Step 3:  Visualize data distributions of these two Cell Types."
     ]
    },
    {
     "cell_type": "markdown",
     "metadata": {},
     "source": [
      "Let's start with Box Plots."
     ]
    },
    {
     "cell_type": "code",
     "collapsed": false,
     "input": [
      "%matplotlib inline\n",
      "import numpy as np\n",
      "from numpy.random import randn\n",
      "import pandas as pd\n",
      "from scipy import stats\n",
      "import matplotlib as mpl\n",
      "import matplotlib.pyplot as plt\n",
      "import seaborn as sns\n",
      "\n",
      "sns.set_context(\"talk\")\n",
      "mpl.rc(\"figure\", figsize=(6, 9))\n",
      "sns.boxplot(df.Average_LAC_ECR, df.CellType, color=\"PRGn\");"
     ],
     "language": "python",
     "metadata": {},
     "outputs": []
    },
    {
     "cell_type": "markdown",
     "metadata": {},
     "source": [
      "This is a pretty small sample size, but let's take a quick look at how the data are distributed using a violin plot."
     ]
    },
    {
     "cell_type": "code",
     "collapsed": false,
     "input": [
      "sns.violinplot(df.Average_LAC_ECR, df.CellType, color=\"PRGn\")"
     ],
     "language": "python",
     "metadata": {},
     "outputs": []
    },
    {
     "cell_type": "markdown",
     "metadata": {},
     "source": [
      "I wonder if both structures the ECR and HCR have changes to ther LAC.  Plot both parameters."
     ]
    },
    {
     "cell_type": "code",
     "collapsed": false,
     "input": [
      "f, (ax_l, ax_r) = plt.subplots(1, 2)\n",
      "sns.violinplot(df.Average_LAC_ECR, df.CellType, \"stick\", positions=[1, 2], color=\"PRGn\", ax=ax_l)\n",
      "sns.violinplot(df.Average_LAC_HCR, df.CellType, \"stick\", positions=[3, 4], color=\"PRGn\", ax=ax_r)\n",
      "plt.tight_layout()"
     ],
     "language": "python",
     "metadata": {},
     "outputs": []
    },
    {
     "cell_type": "markdown",
     "metadata": {},
     "source": [
      "There is pretty high cell-to-cell variability in values in both cell types.  I wonder if those factors are related, or if they vary independent of each other. Visualize with a scatter plot to inspect.  Given what I know about cells, I hypothesize that these two parameters will be related, so I will also explore potential a potential linear relationship by performing a simple linear regression.  I plot the best-fit line along with a swath to visualize the 95% confidence interval."
     ]
    },
    {
     "cell_type": "code",
     "collapsed": false,
     "input": [
      "dfsmall = df.loc[:,['CellType','Average_LAC_ECR','Average_LAC_HCR']]\n",
      "dfsmall\n",
      "\n",
      "dfgA = dfsmall[df.CellType == 'B-Lymphocyte']\n",
      "#dfgA\n",
      "\n",
      "dfgB = dfsmall[df.CellType == 'cancer']\n",
      "#dfgB"
     ],
     "language": "python",
     "metadata": {},
     "outputs": []
    },
    {
     "cell_type": "code",
     "collapsed": false,
     "input": [
      "sns.lmplot('Average_LAC_ECR','Average_LAC_HCR', dfgA, color= \"#BC9FC9\");\n",
      "plt.title('B-Lymphocyte')"
     ],
     "language": "python",
     "metadata": {},
     "outputs": []
    },
    {
     "cell_type": "code",
     "collapsed": false,
     "input": [
      "sns.lmplot('Average_LAC_ECR','Average_LAC_HCR', dfgB, color= \"#8FCF9A\");\n",
      "plt.title('cancer')"
     ],
     "language": "python",
     "metadata": {},
     "outputs": []
    },
    {
     "cell_type": "markdown",
     "metadata": {},
     "source": [
      "Interesting...it looks like both cell types have a linear relationship between these two variables.  Let's perform statistical analysis to test that hypothesis. Pearson's correlation coefficient and associated p-value will tell us the probability that this hypothesis is true."
     ]
    },
    {
     "cell_type": "code",
     "collapsed": false,
     "input": [
      "g = sns.jointplot(\"Average_LAC_ECR\", \"Average_LAC_HCR\", data=dfgA, xlim=(0.1, 0.4), ylim=(0.15, 0.45), kind=\"reg\", color='#BC9FC9', size=7)\n",
      "plt.title('B-Lymphocyte', size = 12)\n",
      "\n",
      "g = sns.jointplot(\"Average_LAC_ECR\", \"Average_LAC_HCR\", data=dfgB, xlim=(0.1, 0.4), ylim=(0.15, 0.45), kind=\"reg\", color= \"#8FCF9A\", size=7)\n",
      "plt.title('cancer', size = 12)\n"
     ],
     "language": "python",
     "metadata": {},
     "outputs": []
    },
    {
     "cell_type": "heading",
     "level": 2,
     "metadata": {},
     "source": [
      "Step 4:  Are there any conclusions that we can draw from our analysis so far?"
     ]
    },
    {
     "cell_type": "markdown",
     "metadata": {},
     "source": [
      "By inspection, the mean values of parameters 'Average_LAC_HCR' and 'Average_LAC_ECR' are different between these two cell types.  Correlation analysis shows high (close to one) Pearson correlation coefficients for both cell types, with p-values of 0.00046 and 1.6e-6 for B-lymphocytes and cancer cells, respectively.  That means that for both cell types these two variables are significantly correlated; the odds that they are not linearly correlated, and we got this result randomly, is less than 0.001.  "
     ]
    },
    {
     "cell_type": "code",
     "collapsed": false,
     "input": [],
     "language": "python",
     "metadata": {},
     "outputs": []
    }
   ],
   "metadata": {}
  }
 ]
}
